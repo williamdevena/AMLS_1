{
 "cells": [
  {
   "cell_type": "markdown",
   "metadata": {},
   "source": [
    "#  Lab 1: Regression \n",
    "## Simple Linear Regression"
   ]
  },
  {
   "cell_type": "markdown",
   "metadata": {},
   "source": [
    "In this notebook we are going to implement simple (one input) linear regression. You will be provided with some already complete code as well as some code that you should complete yourself. In particular, you will have to:\n",
    "* Complete the function `paramEstimates` to implement linear regression algorithm.\n",
    "* Complete the function `linearRegrNEWPredict` to implement linear regression algorithm.\n",
    "* Complete the function `SSR` to compute the sum of squared residuals.\n",
    "\n"
   ]
  },
  {
   "cell_type": "markdown",
   "metadata": {},
   "source": [
    "# Import libraries"
   ]
  },
  {
   "cell_type": "markdown",
   "metadata": {},
   "source": [
    "The required libraries for this notebook are pandas, sklearn, numpy and matplotlib."
   ]
  },
  {
   "cell_type": "code",
   "execution_count": 82,
   "metadata": {},
   "outputs": [],
   "source": [
    "import pandas\n",
    "from sklearn.model_selection import train_test_split\n",
    "from sklearn.linear_model import LinearRegression\n",
    "import numpy as np\n",
    "import matplotlib.pyplot as plt\n",
    "from sklearn import datasets, linear_model\n",
    "from sklearn.metrics import mean_squared_error, r2_score"
   ]
  },
  {
   "cell_type": "markdown",
   "metadata": {},
   "source": [
    "# Load the data\n",
    "The data we are using is from ***regression data.csv***. It consists of 260 data points related to house prices where each data point has 9 features."
   ]
  },
  {
   "cell_type": "code",
   "execution_count": 83,
   "metadata": {},
   "outputs": [
    {
     "data": {
      "text/html": [
       "<div>\n",
       "<style scoped>\n",
       "    .dataframe tbody tr th:only-of-type {\n",
       "        vertical-align: middle;\n",
       "    }\n",
       "\n",
       "    .dataframe tbody tr th {\n",
       "        vertical-align: top;\n",
       "    }\n",
       "\n",
       "    .dataframe thead th {\n",
       "        text-align: right;\n",
       "    }\n",
       "</style>\n",
       "<table border=\"1\" class=\"dataframe\">\n",
       "  <thead>\n",
       "    <tr style=\"text-align: right;\">\n",
       "      <th></th>\n",
       "      <th>Price (Older)</th>\n",
       "      <th>Price (New)</th>\n",
       "    </tr>\n",
       "  </thead>\n",
       "  <tbody>\n",
       "    <tr>\n",
       "      <th>0</th>\n",
       "      <td>1524</td>\n",
       "      <td>2107</td>\n",
       "    </tr>\n",
       "    <tr>\n",
       "      <th>1</th>\n",
       "      <td>1542</td>\n",
       "      <td>2107</td>\n",
       "    </tr>\n",
       "    <tr>\n",
       "      <th>2</th>\n",
       "      <td>1542</td>\n",
       "      <td>2107</td>\n",
       "    </tr>\n",
       "    <tr>\n",
       "      <th>3</th>\n",
       "      <td>1524</td>\n",
       "      <td>2117</td>\n",
       "    </tr>\n",
       "    <tr>\n",
       "      <th>4</th>\n",
       "      <td>1542</td>\n",
       "      <td>2117</td>\n",
       "    </tr>\n",
       "    <tr>\n",
       "      <th>...</th>\n",
       "      <td>...</td>\n",
       "      <td>...</td>\n",
       "    </tr>\n",
       "    <tr>\n",
       "      <th>256</th>\n",
       "      <td>0</td>\n",
       "      <td>218725</td>\n",
       "    </tr>\n",
       "    <tr>\n",
       "      <th>257</th>\n",
       "      <td>0</td>\n",
       "      <td>216824</td>\n",
       "    </tr>\n",
       "    <tr>\n",
       "      <th>258</th>\n",
       "      <td>0</td>\n",
       "      <td>223315</td>\n",
       "    </tr>\n",
       "    <tr>\n",
       "      <th>259</th>\n",
       "      <td>0</td>\n",
       "      <td>224273</td>\n",
       "    </tr>\n",
       "    <tr>\n",
       "      <th>260</th>\n",
       "      <td>0</td>\n",
       "      <td>233723</td>\n",
       "    </tr>\n",
       "  </tbody>\n",
       "</table>\n",
       "<p>261 rows × 2 columns</p>\n",
       "</div>"
      ],
      "text/plain": [
       "     Price (Older)  Price (New)\n",
       "0             1524         2107\n",
       "1             1542         2107\n",
       "2             1542         2107\n",
       "3             1524         2117\n",
       "4             1542         2117\n",
       "..             ...          ...\n",
       "256              0       218725\n",
       "257              0       216824\n",
       "258              0       223315\n",
       "259              0       224273\n",
       "260              0       233723\n",
       "\n",
       "[261 rows x 2 columns]"
      ]
     },
     "execution_count": 83,
     "metadata": {},
     "output_type": "execute_result"
    }
   ],
   "source": [
    "# Loading the CSV file\n",
    "houseprice=pandas.read_csv('./datasets/regression_data.csv')\n",
    "houseprice=houseprice[['Price (Older)', 'Price (New)']] # Choose 2 columns \n",
    "houseprice"
   ]
  },
  {
   "cell_type": "markdown",
   "metadata": {},
   "source": [
    "# Split data into training and testing"
   ]
  },
  {
   "cell_type": "code",
   "execution_count": 84,
   "metadata": {},
   "outputs": [
    {
     "name": "stdout",
     "output_type": "stream",
     "text": [
      "     Price (New)\n",
      "166        59102\n",
      "106        22923\n",
      "239       172052\n",
      "76          6239\n",
      "220       192268\n",
      "..           ...\n",
      "18          2369\n",
      "188        86141\n",
      "15          2318\n",
      "161        61621\n",
      "224       164457\n",
      "\n",
      "[66 rows x 1 columns]\n"
     ]
    }
   ],
   "source": [
    "# Split the data\n",
    "X=houseprice[['Price (Older)']]\n",
    "Y=houseprice[['Price (New)']]\n",
    "\n",
    "# Split the data into training and testing(75% training and 25% testing data)\n",
    "xTrain,xTest,yTrain,yTest=train_test_split(X,Y, random_state=0)\n",
    "#print(xTrain.shape, xTest.shape, yTrain.shape, yTest.shape)\n",
    "print(yTest)"
   ]
  },
  {
   "cell_type": "code",
   "execution_count": 85,
   "metadata": {},
   "outputs": [],
   "source": [
    "# Transform dataframes to numpy arrays\n",
    "xTrain1=np.array(xTrain.values).flatten()\n",
    "xTest1=np.array(xTest.values).flatten()\n",
    "yTrain1=np.array(yTrain.values).flatten()\n",
    "yTest1=np.array(yTest.values).flatten()"
   ]
  },
  {
   "cell_type": "markdown",
   "metadata": {},
   "source": [
    "# Use simple linear regression from a library"
   ]
  },
  {
   "cell_type": "markdown",
   "metadata": {},
   "source": [
    "We will first see how simple linear regression can be implemented using built-in functions from the scikit-learn library."
   ]
  },
  {
   "cell_type": "code",
   "execution_count": 88,
   "metadata": {},
   "outputs": [
    {
     "name": "stdout",
     "output_type": "stream",
     "text": [
      "(195, 1) (195, 1)\n",
      "[[ 62473.66124904]\n",
      " [ 33881.08265388]\n",
      " [172240.03893296]\n",
      " [ 23037.97658323]\n",
      " [188156.79582714]\n",
      " [ 62016.86656777]\n",
      " [ 20126.48725107]\n",
      " [ 22276.65211444]\n",
      " [ 20688.48313166]\n",
      " [ 64128.27309455]\n",
      " [ 71008.80065734]\n",
      " [ 21399.97545341]\n",
      " [164338.87517322]\n",
      " [ 37387.78929801]\n",
      " [ 64778.85945879]\n",
      " [ 21061.30141699]\n",
      " [169922.84409522]\n",
      " [ 18728.41868111]\n",
      " [ 52380.80583672]\n",
      " [ 64721.64477143]\n",
      " [161020.42330683]\n",
      " [ 20134.79260891]\n",
      " [ 21614.99193974]\n",
      " [ 18728.41868111]\n",
      " [122571.23058906]\n",
      " [ 64014.76653738]\n",
      " [ 25920.85857172]\n",
      " [168684.42295932]\n",
      " [ 22459.36998695]\n",
      " [171248.01007969]\n",
      " [ 27122.3670061 ]\n",
      " [ 27341.99758013]\n",
      " [ 40501.37567098]\n",
      " [ 28388.47266814]\n",
      " [126399.07773639]\n",
      " [ 37492.99049733]\n",
      " [ 42509.42663351]\n",
      " [ 75284.21431056]\n",
      " [172287.10262739]\n",
      " [ 48887.94145567]\n",
      " [ 20134.79260891]\n",
      " [ 20291.67159036]\n",
      " [ 73051.91868631]\n",
      " [ 38302.3014781 ]\n",
      " [ 20192.9301138 ]\n",
      " [ 72033.12812444]\n",
      " [ 70035.22815482]\n",
      " [198996.21062764]\n",
      " [154034.69454472]\n",
      " [ 45458.75148473]\n",
      " [ 21888.14593097]\n",
      " [ 20994.85855426]\n",
      " [ 41421.42475629]\n",
      " [ 18728.41868111]\n",
      " [ 22566.41682135]\n",
      " [174587.68674945]\n",
      " [ 90531.0056722 ]\n",
      " [ 36820.25651218]\n",
      " [ 21863.22985745]\n",
      " [ 35155.49367376]\n",
      " [ 27702.81923746]\n",
      " [ 20266.75551683]\n",
      " [ 84385.96368714]\n",
      " [ 20233.53408547]\n",
      " [ 59903.61440591]\n",
      " [162888.2060036 ]]\n"
     ]
    },
    {
     "data": {
      "image/png": "[encoded data removed]",
      "text/plain": [
       "<Figure size 640x480 with 1 Axes>"
      ]
     },
     "metadata": {},
     "output_type": "display_data"
    }
   ],
   "source": [
    "# sklearn functions implementation\n",
    "def linearRegrPredict(xTrain, yTrain, xTest):\n",
    "    # Create linear regression object\n",
    "    regr=LinearRegression()\n",
    "    # Train the model using the training sets\n",
    "    print(xTrain.shape, yTrain.shape)\n",
    "    regr.fit(xTrain, yTrain)\n",
    "    # Make predictions using the testing set\n",
    "    y_pred = regr.predict(xTest)\n",
    "    #print(\"Accuracy Score:\",regr.score(xTest,yTest))\n",
    "    return y_pred\n",
    "\n",
    "\n",
    "y_pred_scikit = linearRegrPredict(xTrain, yTrain, xTest)\n",
    "\n",
    "print(y_pred_scikit)\n",
    "\n",
    "# Plot testing set predictions\n",
    "plt.scatter(xTest1, yTest1)\n",
    "plt.plot(xTest1, y_pred_scikit, 'r-')\n",
    "plt.show()\n",
    "\n",
    "\n",
    "\n"
   ]
  },
  {
   "cell_type": "markdown",
   "metadata": {},
   "source": [
    "# Implement your own simple linear regression function "
   ]
  },
  {
   "cell_type": "markdown",
   "metadata": {},
   "source": [
    "\n",
    "You will be given the `paramEstimates(xTrain, yTrain)` function that estimates the linear regression parameters alpha and beta as follows:\n",
    "\\begin{align}\n",
    "\\hat{\\beta} & =  \\frac{\\sum_{i=1}^n x_i\\left(y_i - \\bar{y} \\right)}{\\sum_{i=1}^n x_i\\left(x_i - \\bar{x} \\right)}\\\\\n",
    "\\hat{\\alpha} & = \\bar{y}-\\hat{\\beta}\\bar{x}\n",
    "\\end{align}\n",
    "\n",
    "You have, however, to complete the `linearRegrNEWPredict(xTrain, yTrain, xTest)` function, or write your own, that returns the output variable y given the input x as follows: \n",
    "\\begin{align}\n",
    "\\hat{y} & = \\hat{\\alpha}+\\hat{\\beta}x\n",
    "\\end{align}\n",
    "\n",
    "***Remember that we train on `xTrain` and `yTrain`!***"
   ]
  },
  {
   "cell_type": "code",
   "execution_count": 69,
   "metadata": {},
   "outputs": [
    {
     "name": "stdout",
     "output_type": "stream",
     "text": [
      "[ 59102  22923 172052   6239 192268  63301   2127   5080   2994  64397\n",
      "  73284   4062 166857  28830  64971   3377 173045 219881  50903  71021\n",
      " 166980   2127   4243 214987 125937  63580  10504 168346   5352 173337\n",
      "  11780  12265  35324  14508 130705  31557  38101  75618 175386  46907\n",
      "   2117   2409  74853  32426   2217  75462  72714 193409 154907  42334\n",
      "   4657   3326  37085 203122   5584 170263  90383  27839   4606  24716\n",
      "  13144   2369  86141   2318  61621 164457]\n"
     ]
    }
   ],
   "source": [
    "# Transform dataframes to numpy arrays\n",
    "xTrain1=np.array(xTrain.values).flatten()\n",
    "xTest1=np.array(xTest.values).flatten()\n",
    "yTrain1=np.array(yTrain.values).flatten()\n",
    "yTest1=np.array(yTest.values).flatten()\n",
    "\n",
    "print(yTest1)"
   ]
  },
  {
   "cell_type": "code",
   "execution_count": 70,
   "metadata": {},
   "outputs": [
    {
     "name": "stdout",
     "output_type": "stream",
     "text": [
      "[ 62473.66124904  33881.08265388 172240.03893296  23037.97658323\n",
      " 188156.79582714  62016.86656777  20126.48725107  22276.65211444\n",
      "  20688.48313166  64128.27309455  71008.80065734  21399.97545341\n",
      " 164338.87517322  37387.78929801  64778.85945879  21061.30141699\n",
      " 169922.84409522  18728.41868111  52380.80583672  64721.64477143\n",
      " 161020.42330683  20134.79260891  21614.99193974  18728.41868111\n",
      " 122571.23058906  64014.76653738  25920.85857172 168684.42295932\n",
      "  22459.36998695 171248.01007969  27122.3670061   27341.99758013\n",
      "  40501.37567098  28388.47266814 126399.07773639  37492.99049733\n",
      "  42509.42663351  75284.21431056 172287.10262739  48887.94145567\n",
      "  20134.79260891  20291.67159036  73051.91868631  38302.3014781\n",
      "  20192.9301138   72033.12812444  70035.22815482 198996.21062764\n",
      " 154034.69454472  45458.75148473  21888.14593097  20994.85855426\n",
      "  41421.42475629  18728.41868111  22566.41682135 174587.68674945\n",
      "  90531.0056722   36820.25651218  21863.22985745  35155.49367376\n",
      "  27702.81923746  20266.75551683  84385.96368714  20233.53408547\n",
      "  59903.61440591 162888.2060036 ]\n"
     ]
    },
    {
     "data": {
      "image/png": "[encoded data removed]",
      "text/plain": [
       "<Figure size 640x480 with 1 Axes>"
      ]
     },
     "metadata": {},
     "output_type": "display_data"
    }
   ],
   "source": [
    "def paramEstimates(xTrain, yTrain):\n",
    "    beta = np.sum(np.multiply(xTrain,(np.add(yTrain, -np.mean(yTrain))))) / np.sum(np.multiply(xTrain, (np.add(xTrain, - np.mean(xTrain)))))\n",
    "    \n",
    "    # Complete the code here.\n",
    "\n",
    "    # alpha = ...\n",
    "    alpha = np.mean(yTrain) - beta*np.mean(xTrain)\n",
    "    ### SOLUTION --> alpha = np.mean(yTrain) - beta*np.mean(xTrain)\n",
    "    \n",
    "    return alpha, beta\n",
    "\n",
    "\n",
    "def linearRegrNEWPredict(xTrain, yTrain,xTest):\n",
    "    alpha, beta = paramEstimates(xTrain, yTrain)\n",
    "    #print (alpha)\n",
    "    #print(beta)\n",
    "    # Complete the code here.\n",
    "    #y_pred1 = ...\n",
    "    \n",
    "    #y_pred1 = alpha + beta*xTest\n",
    "    y_pred1 =  np.add(alpha, np.multiply(beta,xTest))\n",
    "    \n",
    "    #### SOLUTION ---> y_pred1 =  np.add(alpha, np.multiply(beta,xTest))\n",
    "    \n",
    "    \n",
    "    return y_pred1\n",
    "\n",
    " \n",
    "y_pred1=linearRegrNEWPredict(xTrain1, yTrain1,xTest1)\n",
    "print(y_pred1)\n",
    "\n",
    "\n",
    "#Plot testing set predictions\n",
    "plt.scatter(xTest, yTest)\n",
    "plt.plot(xTest1, y_pred1, 'r-')\n",
    "plt.show()\n",
    "\n"
   ]
  },
  {
   "cell_type": "markdown",
   "metadata": {},
   "source": [
    "# Sum of Squared Residuals"
   ]
  },
  {
   "cell_type": "markdown",
   "metadata": {},
   "source": [
    "You are now asked to write a simple function `SSR(y, y_pred)` that computes the sum of the squared\n",
    "residuals (SSR). Remember that the SSR is the sum of the squares of the difference between the predicted outputs \\\\(\\hat{y_i}\\\\) and the true output \\\\(y_i\\\\), as follows:\n",
    "\\begin{align}\n",
    "SSR\\left(y_i,\\hat{y_i} \\right) & =  \\sum_{i=1}^n \\left(y_i - \\hat{y_i} \\right)^2\\\\\n",
    "\\end{align}\n",
    "Complete the following (or write your own) function to compute the SSR associated with the predictions delivered by your own or the library's implementation of simple linear regression."
   ]
  },
  {
   "cell_type": "code",
   "execution_count": 81,
   "metadata": {
    "scrolled": true
   },
   "outputs": [
    {
     "name": "stdout",
     "output_type": "stream",
     "text": [
      "[[   3371.66124904   39550.66124904 -109578.33875096 ...   60155.66124904\n",
      "      852.66124904 -101983.33875096]\n",
      " [ -25220.91734612   10958.08265388 -138170.91734612 ...   31563.08265388\n",
      "   -27739.91734612 -130575.91734612]\n",
      " [ 113138.03893296  149317.03893296     188.03893296 ...  169922.03893296\n",
      "   110619.03893296    7783.03893296]\n",
      " ...\n",
      " [ -38868.46591453   -2689.46591453 -151818.46591453 ...   17915.53408547\n",
      "   -41387.46591453 -144223.46591453]\n",
      " [    801.61440591   36980.61440591 -112148.38559409 ...   57585.61440591\n",
      "    -1717.38559409 -104553.38559409]\n",
      " [ 103786.2060036   139965.2060036    -9163.7939964  ...  160570.2060036\n",
      "   101267.2060036    -1568.7939964 ]]\n",
      "(66, 66)\n",
      "(66,)\n",
      "------------------------------------\n",
      "[ 3.37166125e+03  1.09580827e+04  1.88038933e+02  1.67989766e+04\n",
      " -4.11120417e+03 -1.28413343e+03  1.79994873e+04  1.71966521e+04\n",
      "  1.76944831e+04 -2.68726905e+02 -2.27519934e+03  1.73379755e+04\n",
      " -2.51812483e+03  8.55778930e+03 -1.92140541e+02  1.76843014e+04\n",
      " -3.12215590e+03 -2.01152581e+05  1.47780584e+03 -6.29935523e+03\n",
      " -5.95957669e+03  1.80077926e+04  1.73719919e+04 -1.96258581e+05\n",
      " -3.36576941e+03  4.34766537e+02  1.54168586e+04  3.38422959e+02\n",
      "  1.71073700e+04 -2.08898992e+03  1.53423670e+04  1.50769976e+04\n",
      "  5.17737567e+03  1.38804727e+04 -4.30592226e+03  5.93599050e+03\n",
      "  4.40842663e+03 -3.33785689e+02 -3.09889737e+03  1.98094146e+03\n",
      "  1.80177926e+04  1.78826716e+04 -1.80108131e+03  5.87630148e+03\n",
      "  1.79759301e+04 -3.42887188e+03 -2.67877185e+03  5.58721063e+03\n",
      " -8.72305455e+02  3.12475148e+03  1.72311459e+04  1.76688586e+04\n",
      "  4.33642476e+03 -1.84393581e+05  1.69824168e+04  4.32468675e+03\n",
      "  1.48005672e+02  8.98125651e+03  1.72572299e+04  1.04394937e+04\n",
      "  1.45588192e+04  1.78977555e+04 -1.75503631e+03  1.79155341e+04\n",
      " -1.71738559e+03 -1.56879400e+03]\n",
      "(66,)\n",
      "()\n"
     ]
    }
   ],
   "source": [
    "def SSR(yTest, y_pred):\n",
    "    # Complete the code here.\n",
    "    #ssr = ...\n",
    "    \n",
    "    #print(y_pred.shape, yTest.shape)\n",
    "    \n",
    "    ssr = np.subtract(y_pred, yTest)\n",
    "    print(ssr)\n",
    "    ssr = np.square(ssr)\n",
    "    print(ssr.shape)\n",
    "    ssr = np.mean(ssr, axis=0)\n",
    "    print(ssr.shape)\n",
    "    \n",
    "    #ssr = np.mean(np.square(np.subtract(y_pred, yTest)), axis=0)\n",
    "    #### SOLUTION --> ssr = np.sum(np.subtract(yTest, y_pred)**2)\n",
    "    #print(ssr.shape)\n",
    "    \n",
    "    return ssr\n",
    "\n",
    "\n",
    "#print(yTest.shape ,y_pred.shape)\n",
    "#print(yTest1.shape ,y_pred1.shape)\n",
    "\n",
    "\n",
    "\n",
    "y_pred_SSR = SSR(yTest1, y_pred)\n",
    "print(\"------------------------------------\")\n",
    "y_pred1_SSR = SSR(yTest1, y_pred1)\n",
    "\n",
    "#print(y_pred_SSR)\n",
    "#print(y_pred1_SSR)\n",
    "\n",
    "#print(\"Scikit-learn linear regression SSR: %.4f\" % y_pred_SSR)\n",
    "#print(\"Our implementation of linear regression SSR: %.4f\" % y_pred1_SSR)\n"
   ]
  },
  {
   "cell_type": "code",
   "execution_count": null,
   "metadata": {
    "pycharm": {
     "name": "#%%\n"
    }
   },
   "outputs": [],
   "source": []
  },
  {
   "cell_type": "code",
   "execution_count": null,
   "metadata": {},
   "outputs": [],
   "source": []
  },
  {
   "cell_type": "code",
   "execution_count": null,
   "metadata": {},
   "outputs": [],
   "source": []
  }
 ],
 "metadata": {
  "anaconda-cloud": {},
  "kernelspec": {
   "display_name": "Python 3 (ipykernel)",
   "language": "python",
   "name": "python3"
  },
  "language_info": {
   "codemirror_mode": {
    "name": "ipython",
    "version": 3
   },
   "file_extension": ".py",
   "mimetype": "text/x-python",
   "name": "python",
   "nbconvert_exporter": "python",
   "pygments_lexer": "ipython3",
   "version": "3.10.6"
  }
 },
 "nbformat": 4,
 "nbformat_minor": 1
}
