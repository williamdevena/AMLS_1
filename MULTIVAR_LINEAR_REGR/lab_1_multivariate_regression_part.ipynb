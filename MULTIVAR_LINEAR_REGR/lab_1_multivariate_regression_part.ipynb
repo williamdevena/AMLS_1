{
 "cells": [
  {
   "cell_type": "markdown",
   "metadata": {},
   "source": [
    "#  Lab 1: Regression \n",
    "## Multivariate Regression"
   ]
  },
  {
   "cell_type": "markdown",
   "metadata": {},
   "source": [
    "In this notebook we are going to implement multivariate regression. In particular, you will have to:\n",
    "\n",
    "* Complete the function `multilinearNEWRegrPredict` to implement multivariate regression algorithm.\n",
    "* Use the previous `SSR` function on the estimates and the true labels.\n"
   ]
  },
  {
   "cell_type": "markdown",
   "metadata": {},
   "source": [
    "# Import libraries"
   ]
  },
  {
   "cell_type": "markdown",
   "metadata": {},
   "source": [
    "The required libraries for this notebook are pandas, sklearn and numpy."
   ]
  },
  {
   "cell_type": "code",
   "execution_count": 1,
   "metadata": {},
   "outputs": [],
   "source": [
    "# import libraries\n",
    "import pandas\n",
    "import numpy as np\n",
    "from sklearn.linear_model import LinearRegression\n",
    "from sklearn.model_selection import train_test_split"
   ]
  },
  {
   "cell_type": "markdown",
   "metadata": {},
   "source": [
    "# Load the data\n",
    "The data we are using is from ***multi_regr_data.csv***. It consists of 1000 data related to student marks. Each data point has 3 columns(marks) and we are going to use all of them for multivariate linear regression. In particular, we will use the first 2 marks to predict the 3rd mark."
   ]
  },
  {
   "cell_type": "code",
   "execution_count": 11,
   "metadata": {},
   "outputs": [
    {
     "name": "stdout",
     "output_type": "stream",
     "text": [
      "(1000, 3)\n"
     ]
    }
   ],
   "source": [
    "# Loading the CSV file\n",
    "dataset=pandas.read_csv('./datasets/multi_regr_data.csv')\n",
    "print(dataset.shape) #(data_number,feature_number)"
   ]
  },
  {
   "cell_type": "markdown",
   "metadata": {},
   "source": [
    "# Split data into training and testing"
   ]
  },
  {
   "cell_type": "code",
   "execution_count": 4,
   "metadata": {},
   "outputs": [
    {
     "name": "stdout",
     "output_type": "stream",
     "text": [
      "(750, 2)\n",
      "(250, 2)\n"
     ]
    }
   ],
   "source": [
    "# Split the data, we will use first 2 columns as features and the 3rd columns as target.\n",
    "X = dataset[list(dataset.columns)[:-1]]\n",
    "#print(X.shape)\n",
    "Y = dataset[list(dataset.columns)[-1]] \n",
    "#print(Y.shape)\n",
    "# Split the data into training and testing(75% training and 25% testing data)\n",
    "xtrain,xtest,ytrain,ytest=train_test_split(X, Y, random_state=0)\n",
    "print(xtrain.shape)\n",
    "print(xtest.shape)"
   ]
  },
  {
   "cell_type": "markdown",
   "metadata": {},
   "source": [
    "# Use multivariate linear regression from a library"
   ]
  },
  {
   "cell_type": "markdown",
   "metadata": {},
   "source": [
    "We will first see how multivariate linear regression can be implemented using already available functions from the scikit-learn library."
   ]
  },
  {
   "cell_type": "code",
   "execution_count": 10,
   "metadata": {},
   "outputs": [
    {
     "name": "stdout",
     "output_type": "stream",
     "text": [
      "For the true target:  25\n",
      "We predict as:  20.603310452986527\n",
      "Accuracy Score from library implementation: 0.9112675801400184\n"
     ]
    }
   ],
   "source": [
    "# sklearn functions implementation\n",
    "def multilinearRegrPredict(xtrain, ytrain,xtest ):\n",
    "    # Create linear regression object\n",
    "    reg=LinearRegression()\n",
    "    # Train the model using the training sets\n",
    "    reg.fit(xtrain,ytrain)\n",
    "    # Make predictions using the testing set\n",
    "    y_pred = reg.predict(xtest)\n",
    "    # See how good it works in test data, \n",
    "    # we print out one of the true target and its estimate\n",
    "    print('For the true target: ',list(ytest)[-1])\n",
    "    print('We predict as: ', list(y_pred)[-1]) # print out the \n",
    "    print(\"Overall Accuracy Score from library implementation:\", reg.score(xtest, ytest)) #.score(Predicted value, Y axis of Test data) methods returns the Accuracy Score or how much percentage the predicted value and the actual value matches\n",
    "\n",
    "    return y_pred\n",
    "\n",
    "y_pred = multilinearRegrPredict(xtrain, ytrain, xtest )\n",
    "\n"
   ]
  },
  {
   "cell_type": "markdown",
   "metadata": {},
   "source": [
    "# Implement your own multivariate linear regression function "
   ]
  },
  {
   "cell_type": "markdown",
   "metadata": {},
   "source": [
    "You are supposed to complete the `multiLinparamEstimates(xtrain, ytrain)` function that estimates beta as follows:\n",
    "\n",
    "\\begin{align}\n",
    "\\hat{\\beta} & = \\left(X^T X \\right)^{-1} X^Ty\n",
    "\\end{align}\n",
    "\n",
    "You are asked to complete the `multilinearNEWRegrPredict(xtrain, ytrain,xtest)` function, or write your own, that returns the output variable y given the input varables.\n",
    "\n",
    "***Remember that this time we train on `xtrain` and `ytrain`!***"
   ]
  },
  {
   "cell_type": "code",
   "execution_count": null,
   "metadata": {
    "collapsed": true
   },
   "outputs": [],
   "source": [
    "\n",
    "def multiLinparamEstimates(xtrain, ytrain):  \n",
    "    # Q: why need 'intercept'?\n",
    "    intercept = np.ones((xtrain.shape[0], 1))\n",
    "    print(xtrain.shape)\n",
    "    xtrain = np.concatenate((intercept, xtrain), axis=1)\n",
    "    print(xtrain.shape)\n",
    "    \n",
    "    # Complete your code here.\n",
    "    # beta = ...\n",
    "    return beta\n",
    "\n",
    "def multilinearNEWRegrPredict(xtrain, ytrain,xtest):\n",
    "    beta = multiLinparamEstimates(xtrain, ytrain)\n",
    "    # Complete your code here.\n",
    "    \n",
    "    # intercept = ...\n",
    "    # xtest = ...\n",
    "    #y_pred = ...\n",
    "    return y_pred\n",
    "\n",
    "\n",
    "# Model Evaluation - R2 Score\n",
    "def r2_score(Y, Y_pred):\n",
    "    mean_y = np.mean(Y)\n",
    "    ss_tot = sum((Y - mean_y) ** 2)\n",
    "    ss_res = sum((Y - Y_pred) ** 2)\n",
    "    r2 = 1 - (ss_res / ss_tot)\n",
    "    print(\"Accuracy Score from scratch implementation:\", r2) \n",
    "    return r2\n"
   ]
  },
  {
   "cell_type": "code",
   "execution_count": null,
   "metadata": {},
   "outputs": [],
   "source": [
    "y_pred1 = multilinearNEWRegrPredict(np.array(xtrain.values), np.array(ytrain.values).flatten(),\n",
    "                             np.array(xtest.values))\n",
    "#print (y_pred1)\n",
    "r2=r2_score(ytest, y_pred1)\n",
    "\n"
   ]
  },
  {
   "cell_type": "markdown",
   "metadata": {},
   "source": [
    "# Sum of Squared Residuals"
   ]
  },
  {
   "cell_type": "markdown",
   "metadata": {},
   "source": [
    "You are now asked to re-use the previous function in order to compute the SSR associated with the predictions delivered by your own or the library's implementation of multivariate linear regression."
   ]
  },
  {
   "cell_type": "code",
   "execution_count": null,
   "metadata": {
    "pycharm": {
     "name": "#%%\n"
    },
    "scrolled": true
   },
   "outputs": [],
   "source": [
    "def SSR( y_pred,yTest):\n",
    "    # Complete your code here.\n",
    "    #ssr = ...\n",
    "    return ssr\n",
    "\n",
    "y_pred_SSR = SSR(y_pred, np.array(ytest.values).flatten())\n",
    "#print(y_pred.shape)\n",
    "#print(np.array(ytest.values).flatten().shape)\n",
    "y_pred1_SSR = SSR(y_pred1, np.array(ytest.values).flatten())\n",
    "\n",
    "print(\"Scikit-learn multivariate linear regression SSR: %.4f\" % y_pred_SSR)\n",
    "print(\"From scratch implementation of multivariate linear regression SSR: %.4f\" % y_pred1_SSR)"
   ]
  }
 ],
 "metadata": {
  "anaconda-cloud": {},
  "kernelspec": {
   "display_name": "Python 3",
   "language": "python",
   "name": "python3"
  },
  "language_info": {
   "codemirror_mode": {
    "name": "ipython",
    "version": 3
   },
   "file_extension": ".py",
   "mimetype": "text/x-python",
   "name": "python",
   "nbconvert_exporter": "python",
   "pygments_lexer": "ipython3",
   "version": "3.8.5"
  }
 },
 "nbformat": 4,
 "nbformat_minor": 1
}
